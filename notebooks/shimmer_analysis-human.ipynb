{
 "cells": [
  {
   "cell_type": "code",
   "execution_count": 2,
   "metadata": {},
   "outputs": [],
   "source": [
    "import peregrine\n",
    "import sys\n",
    "from peregrine._falcon4py import ffi as falcon_ffi\n",
    "from peregrine._falcon4py import lib as falcon4py\n",
    "from peregrine._shimmer4py import ffi as shimmer_ffi\n",
    "from peregrine._shimmer4py import lib as shimmer4py\n",
    "import numpy as np\n",
    "import mmap\n",
    "from pprint import pprint"
   ]
  },
  {
   "cell_type": "code",
   "execution_count": 3,
   "metadata": {},
   "outputs": [],
   "source": [
    "f=open(\"/mnt/data/test3_28x_wd_2/wd/index/seq_dataset.seqdb\", \"rb\")\n",
    "seqdb=mmap.mmap(f.fileno(), 0, flags=mmap.MAP_SHARED, prot=mmap.PROT_READ)"
   ]
  },
  {
   "cell_type": "code",
   "execution_count": 4,
   "metadata": {},
   "outputs": [],
   "source": [
    "rmap = dict(zip(b\"ACGT\", b\"TGCA\"))"
   ]
  },
  {
   "cell_type": "code",
   "execution_count": 5,
   "metadata": {},
   "outputs": [],
   "source": [
    "read_data = {}\n",
    "with open(\"/mnt/data/test3_28x_wd_2/wd/index/seq_dataset.idx\") as f:\n",
    "    for row in f:\n",
    "        row = row.strip().split()\n",
    "        rid, rname, rlen, offset = row\n",
    "        rid = int(rid)\n",
    "        rlen = int(rlen)\n",
    "        offset = int(offset)\n",
    "        read_data.setdefault(rid, {})\n",
    "        read_data[rid][\"name\"] = rname\n",
    "        read_data[rid][\"length\"] = rlen\n",
    "        read_data[rid][\"offset\"] = offset"
   ]
  },
  {
   "cell_type": "code",
   "execution_count": 6,
   "metadata": {},
   "outputs": [],
   "source": [
    "py_mmer_L2=shimmer_ffi.new(\"py_mmer_t *\")\n",
    "shimmer4py.build_shimmer_map4py(py_mmer_L2, \n",
    "                             b\"/mnt/data/test3_28x_wd_2/wd/index/seq_dataset\", \n",
    "                             b\"/mnt/data/test3_28x_wd_2/wd/index/shimmer-L2\", \n",
    "                             1, 1, 2, 240)\n"
   ]
  },
  {
   "cell_type": "code",
   "execution_count": 7,
   "metadata": {},
   "outputs": [],
   "source": [
    "# get the range of the shimmers of each in the py_mmer vector\n",
    "def get_mmer_index(py_mmer):\n",
    "    mmer_index = {}\n",
    "    for i in range(py_mmer.mmers.n):\n",
    "        mmer = py_mmer.mmers.a[i]\n",
    "        rid = mmer.y >> 32\n",
    "        mmer_index.setdefault(rid, [None, None])\n",
    "        if mmer_index[rid][0] == None:\n",
    "            mmer_index[rid][0] = i\n",
    "        if mmer_index[rid][1] == None or i > mmer_index[rid][1]:\n",
    "            mmer_index[rid][1] = i\n",
    "    return mmer_index"
   ]
  },
  {
   "cell_type": "code",
   "execution_count": 10,
   "metadata": {},
   "outputs": [],
   "source": [
    "mmer_index_L2 = get_mmer_index(py_mmer_L2)"
   ]
  },
  {
   "cell_type": "code",
   "execution_count": 11,
   "metadata": {},
   "outputs": [
    {
     "name": "stdout",
     "output_type": "stream",
     "text": [
      "the range of shimmers for the read 3 is from 18261594 to 18261629\n"
     ]
    }
   ],
   "source": [
    "rid = 3\n",
    "s,e=mmer_index_L2[rid]\n",
    "print(f\"the range of shimmers for the read {rid} is from {s} to {e}\")"
   ]
  },
  {
   "cell_type": "code",
   "execution_count": 12,
   "metadata": {},
   "outputs": [],
   "source": [
    "basemap = {1:\"A\",2:\"C\",4:\"G\",8:\"T\"}"
   ]
  },
  {
   "cell_type": "code",
   "execution_count": 13,
   "metadata": {},
   "outputs": [],
   "source": [
    "def get_shimmers_for_read(rid, mmer_index, py_mmer, mc_l=2, mc_h=240):\n",
    "    kset = set()\n",
    "    shimmers = []\n",
    "    s,e = mmer_index[rid]\n",
    "    for i in range(s,e):\n",
    "        x = py_mmer.mmers.a[i].x\n",
    "        y = py_mmer.mmers.a[i].y\n",
    "        span = x & 0xFF\n",
    "        mmer = x >> 8\n",
    "        mmcount = shimmer4py.get_mmer_count(py_mmer, mmer)\n",
    "        if mmcount < mc_l or mmcount > mc_h:\n",
    "            continue\n",
    "        rid = y >> 32\n",
    "        pos_end = ((y & 0xFFFFFFFF) >> 1) + 1\n",
    "        strand = y & 0x1\n",
    "        \n",
    "        mm_str = \"{:014X}\".format(mmer)\n",
    "        \n",
    "        s = read_data[rid][\"offset\"]\n",
    "        e = s + read_data[rid][\"length\"]\n",
    "        kmer =  \"\".join([basemap[c&0x0F] for c in seqdb[s:e][pos_end-span:pos_end]])\n",
    "        \n",
    "        shimmers.append( (rid, span, pos_end, strand, mmer, mm_str, kmer, mmcount) )\n",
    "        kset.add(mmer)\n",
    "    return shimmers, kset"
   ]
  },
  {
   "cell_type": "code",
   "execution_count": 14,
   "metadata": {},
   "outputs": [],
   "source": [
    "rid = 1\n",
    "shimmers_L2, kset_L2 = get_shimmers_for_read(rid, mmer_index_L2, py_mmer_L2)"
   ]
  },
  {
   "cell_type": "code",
   "execution_count": 16,
   "metadata": {},
   "outputs": [
    {
     "name": "stdout",
     "output_type": "stream",
     "text": [
      "L2 shimmer for read 1\n",
      "19\n"
     ]
    }
   ],
   "source": [
    "print(f\"L2 shimmer for read {rid}\")\n",
    "pprint(len(shimmers_L2))"
   ]
  },
  {
   "cell_type": "code",
   "execution_count": 40,
   "metadata": {},
   "outputs": [],
   "source": [
    "shimmer_count_L2 = []\n",
    "all_rids = list(read_data.keys())\n",
    "for rid in all_rids[:50000]:\n",
    "    if rid not in mmer_index_L2:\n",
    "        continue\n",
    "    shimmers_L2, kset_L2 = get_shimmers_for_read(rid, mmer_index_L2, py_mmer_L2)\n",
    "    if len(shimmers_L2) < 2:\n",
    "           continue\n",
    "    shimmer_count_L2.append( (len(shimmers_L2),read_data[rid][\"length\"]/(len(shimmers_L2)-1)))"
   ]
  },
  {
   "cell_type": "code",
   "execution_count": 41,
   "metadata": {},
   "outputs": [],
   "source": [
    "%matplotlib inline\n",
    "from matplotlib import pyplot as plt\n",
    "import numpy as np"
   ]
  },
  {
   "cell_type": "code",
   "execution_count": 79,
   "metadata": {},
   "outputs": [
    {
     "name": "stdout",
     "output_type": "stream",
     "text": [
      "mean distance: 819.3684715811905\n",
      "median distance: 633.6\n"
     ]
    },
    {
     "data": {
      "image/png": "[encoded data removed]",
      "text/plain": [
       "<Figure size 432x288 with 1 Axes>"
      ]
     },
     "metadata": {
      "needs_background": "light"
     },
     "output_type": "display_data"
    }
   ],
   "source": [
    "\n",
    "h_L2=plt.hist([x[1] for x in shimmer_count_L2], \n",
    "              bins=200, range=(0, 2000), alpha=0.75)\n",
    "plt.xlabel(\"average distance between minimizers (bp)\")\n",
    "plt.ylabel(\"read count\")\n",
    "plt.legend( (\"level 2\",) )\n",
    "plt.title(\"Distribution of the distance between shimmers\")\n",
    "print(\"mean distance:\", np.mean([x[1] for x in shimmer_count_L2]) )\n",
    "print(\"median distance:\", np.median([x[1] for x in shimmer_count_L2]) )"
   ]
  },
  {
   "cell_type": "code",
   "execution_count": 70,
   "metadata": {},
   "outputs": [
    {
     "data": {
      "text/plain": [
       "(229.0, 8190)"
      ]
     },
     "execution_count": 70,
     "metadata": {},
     "output_type": "execute_result"
    }
   ],
   "source": [
    "k_count = []\n",
    "for rid in all_rids[:50000]:\n",
    "    if rid not in mmer_index_L2:\n",
    "        continue\n",
    "    shimmers_L2, kset_L2 = get_shimmers_for_read(rid, mmer_index_L2, py_mmer_L2)\n",
    "    if len(shimmers_L2) < 2:\n",
    "        continue\n",
    "    k_count.append( (np.mean([c[-1] for c in shimmers_L2]), rid ) )\n",
    "\n",
    "k_count.sort()\n",
    "k_count[-1]"
   ]
  },
  {
   "cell_type": "code",
   "execution_count": 80,
   "metadata": {},
   "outputs": [
    {
     "name": "stdout",
     "output_type": "stream",
     "text": [
      "mean count: 79.56188576576095\n",
      "median count: 77.73333333333333\n"
     ]
    },
    {
     "data": {
      "image/png": "[encoded data removed]",
      "text/plain": [
       "<Figure size 432x288 with 1 Axes>"
      ]
     },
     "metadata": {
      "needs_background": "light"
     },
     "output_type": "display_data"
    }
   ],
   "source": [
    "plt.hist( [c[0] for c in k_count], \n",
    "         bins=250, range=(0,250), alpha=0.75 );\n",
    "plt.xlabel(\"minimizer count\");\n",
    "plt.ylabel(\"number of minimizer\");\n",
    "plt.title(\"Distribution of shimmer counts\")\n",
    "print(\"mean count:\", np.mean([c[0] for c in k_count]) )\n",
    "print(\"median count:\", np.median([c[0] for c in k_count]) )"
   ]
  },
  {
   "cell_type": "code",
   "execution_count": 53,
   "metadata": {},
   "outputs": [],
   "source": [
    "nread_ovlp = []\n",
    "for rid in all_rids[:50000]:\n",
    "    if rid not in mmer_index_L2:\n",
    "        continue\n",
    "    shimmers_L2, kset_L2 = get_shimmers_for_read(rid, mmer_index_L2, py_mmer_L2, mc_h=240)\n",
    "    if len(shimmers_L2) < 2:\n",
    "        continue\n",
    "    rids = set()\n",
    "    n0 = shimmers_L2[0]\n",
    "    for n1 in shimmers_L2[1:]:\n",
    "        v = shimmer_ffi.new(\"mp256_v *\")\n",
    "        shimmer4py.get_shimmer_hits(v, py_mmer_L2, n0[4], 16)\n",
    "        for i in range(v.n):\n",
    "            if  (v.a[i].x1 >> 8) == n1[4]:\n",
    "                rids.add(v.a[i].y0 >> 32)\n",
    "        n0 = n1\n",
    "    nread_ovlp.append(len(rids))"
   ]
  },
  {
   "cell_type": "code",
   "execution_count": 81,
   "metadata": {},
   "outputs": [
    {
     "name": "stdout",
     "output_type": "stream",
     "text": [
      "mean count: 52.091704599779675\n",
      "median count: 50.0\n"
     ]
    },
    {
     "data": {
      "image/png": "[encoded data removed]",
      "text/plain": [
       "<Figure size 432x288 with 1 Axes>"
      ]
     },
     "metadata": {
      "needs_background": "light"
     },
     "output_type": "display_data"
    }
   ],
   "source": [
    "plt.hist(nread_ovlp, \n",
    "         bins=150, range=(0,150), alpha=0.75);\n",
    "plt.xlabel(\"number of overlap candidates per reads\");\n",
    "plt.ylabel(\"number of reads\");\n",
    "plt.title(\"Distribution of number of overlap candidats per read\")\n",
    "print(\"mean count:\", np.mean(nread_ovlp ))\n",
    "print(\"median count:\", np.median(nread_ovlp) )"
   ]
  },
  {
   "cell_type": "code",
   "execution_count": 59,
   "metadata": {},
   "outputs": [
    {
     "name": "stdout",
     "output_type": "stream",
     "text": [
      "total reads sampled: 50000\n",
      "total number of read candidates: 2506184\n",
      "number of candidates per read: 50.12368\n"
     ]
    }
   ],
   "source": [
    "nread=len(all_rids[:50000])\n",
    "print(\"total reads sampled:\", nread)\n",
    "print(\"total number of overlap candidates:\", np.sum(nread_ovlp))\n",
    "print(\"number of candidates per read:\", np.sum(nread_ovlp)/nread)"
   ]
  },
  {
   "cell_type": "code",
   "execution_count": null,
   "metadata": {},
   "outputs": [],
   "source": []
  }
 ],
 "metadata": {
  "kernelspec": {
   "display_name": "Python 3",
   "language": "python",
   "name": "python3"
  },
  "language_info": {
   "codemirror_mode": {
    "name": "ipython",
    "version": 3
   },
   "file_extension": ".py",
   "mimetype": "text/x-python",
   "name": "python",
   "nbconvert_exporter": "python",
   "pygments_lexer": "ipython3",
   "version": "3.7.3"
  }
 },
 "nbformat": 4,
 "nbformat_minor": 2
}
